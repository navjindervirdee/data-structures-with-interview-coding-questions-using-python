{
 "cells": [
  {
   "attachments": {},
   "cell_type": "markdown",
   "metadata": {},
   "source": [
    "# Linked List Data Structure with Coding Interview Questions\n",
    "\n",
    "<br>\n",
    "** What is a Linked List?**\n",
    "* A Linked List is just a linear sequence of NODES, connected by links or pointers.\n",
    "<br>\n",
    " \n",
    "**What is a Node?**\n",
    "\n",
    "* A NODE is an object containing two things:\n",
    "    * Data\n",
    "    * Next Pointer\n",
    "\n",
    "#### Watch the Tutorial on YouTube --> (https://www.youtube.com/watch?v=0Ag8sqBuc6c&t=5s)\n",
    "\n",
    "![image-1](https://github.com/navjindervirdee/data-structures-with-interview-coding-questions-using-python/blob/master/Linked%20List/Pics/example.JPG?raw=true)\n"
   ]
  },
  {
   "cell_type": "markdown",
   "metadata": {},
   "source": [
    "\n",
    "\n",
    "### Node Class"
   ]
  },
  {
   "cell_type": "code",
   "execution_count": 6,
   "metadata": {},
   "outputs": [],
   "source": [
    "# Define a Node class\n",
    "\n",
    "class Node:\n",
    "    def __init__(self, data):\n",
    "        # the data that the node holds\n",
    "        self.data = data\n",
    "        \n",
    "        # knows where the next node of the list is\n",
    "        self.next = None"
   ]
  },
  {
   "cell_type": "markdown",
   "metadata": {},
   "source": [
    "### Head Node"
   ]
  },
  {
   "cell_type": "code",
   "execution_count": 7,
   "metadata": {},
   "outputs": [],
   "source": [
    "head = None"
   ]
  },
  {
   "attachments": {},
   "cell_type": "markdown",
   "metadata": {},
   "source": [
    "## Insertion Operations\n",
    "\n",
    "* **Push Front** - Adds a node at the front of the list\n",
    "* **Push Back**  - Adds a node at the back of the list\n",
    "\n",
    "### Push Front\n",
    "\n",
    "#### Watch the Tutorial on YouTube --> (https://www.youtube.com/watch?v=34ohGRyW8Mw&t=24s)\n",
    "\n",
    "<br>\n",
    "\n",
    "* **Step-1**\n",
    "<br>\n",
    "![pushfront-1](https://github.com/navjindervirdee/data-structures-with-interview-coding-questions-using-python/blob/master/Linked%20List/Pics/pushfront-1.JPG?raw=true)\n",
    "\n",
    "<br>\n",
    "\n",
    "* **Step-2**\n",
    "<br>\n",
    "![pushfront-2](https://github.com/navjindervirdee/data-structures-with-interview-coding-questions-using-python/blob/master/Linked%20List/Pics/pushfront-2.JPG?raw=true)\n"
   ]
  },
  {
   "cell_type": "code",
   "execution_count": 11,
   "metadata": {},
   "outputs": [],
   "source": [
    "def pushFront(head, data):\n",
    "    #create a new node\n",
    "    node = Node(data)\n",
    "    \n",
    "    #if list is empty\n",
    "    if(head == None):\n",
    "        head = node\n",
    "    else:\n",
    "        node.next = head\n",
    "        head = node\n",
    "    return head"
   ]
  },
  {
   "cell_type": "markdown",
   "metadata": {},
   "source": [
    "#### Note: Before running the following code, PLEASE RUN THE TRAVERSE FUNCTION GIVEN AFTER PUSHBACK."
   ]
  },
  {
   "cell_type": "code",
   "execution_count": 12,
   "metadata": {},
   "outputs": [
    {
     "name": "stdout",
     "output_type": "stream",
     "text": [
      "Linked List :  30 --> None\n",
      "Linked List :  20 --> 30 --> None\n",
      "Linked List :  10 --> 20 --> 30 --> None\n"
     ]
    }
   ],
   "source": [
    "# let's add nodes\n",
    "head = pushFront(head,30)\n",
    "traverse(head)\n",
    "\n",
    "head = pushFront(head, 20)\n",
    "traverse(head)\n",
    "\n",
    "head = pushFront(head, 10)\n",
    "traverse(head)"
   ]
  },
  {
   "attachments": {},
   "cell_type": "markdown",
   "metadata": {},
   "source": [
    "### PushBack\n",
    "\n",
    "#### Watch the Tutorial on Youtube --> (https://www.youtube.com/watch?v=34ohGRyW8Mw&t=24s)\n",
    "\n",
    "<br>\n",
    "\n",
    "* **Step-1**\n",
    "<br>\n",
    "![pushback-1](https://github.com/navjindervirdee/data-structures-with-interview-coding-questions-using-python/blob/master/Linked%20List/Pics/pushback-1.JPG?raw=true)\n",
    "<br>\n",
    "\n",
    "* **Step-2**\n",
    "<br>\n",
    "![pushback-2](https://github.com/navjindervirdee/data-structures-with-interview-coding-questions-using-python/blob/master/Linked%20List/Pics/pushback-2.JPG?raw=true)\n",
    "<br>\n",
    "\n",
    "* **Step-3**\n",
    "<br>\n",
    "![pushback-3](https://github.com/navjindervirdee/data-structures-with-interview-coding-questions-using-python/blob/master/Linked%20List/Pics/pushback-3.JPG?raw=true)\n",
    "<br>"
   ]
  },
  {
   "cell_type": "code",
   "execution_count": 13,
   "metadata": {},
   "outputs": [],
   "source": [
    "def pushBack(head, data):\n",
    "    # create a new Node\n",
    "    node = Node(data)\n",
    "    \n",
    "    # if list is empty\n",
    "    if(head == None):\n",
    "        head = node\n",
    "        return head\n",
    "    \n",
    "    \n",
    "    # create temp node\n",
    "    temp = head\n",
    "    \n",
    "    # get to the last node of the list\n",
    "    while(temp.next != None):\n",
    "        temp = temp.next\n",
    "    \n",
    "    \n",
    "    # add the new node\n",
    "    temp.next = node\n",
    "    \n",
    "    # return head\n",
    "    return head"
   ]
  },
  {
   "cell_type": "code",
   "execution_count": 14,
   "metadata": {},
   "outputs": [
    {
     "name": "stdout",
     "output_type": "stream",
     "text": [
      "Linked List :  10 --> 20 --> 30 --> 40 --> None\n",
      "Linked List :  10 --> 20 --> 30 --> 40 --> 50 --> None\n",
      "Linked List :  10 --> 20 --> 30 --> 40 --> 50 --> 60 --> None\n"
     ]
    }
   ],
   "source": [
    "#let's add node at the end of the list\n",
    "head = pushBack(head, 40)\n",
    "traverse(head)\n",
    "\n",
    "head = pushBack(head, 50)\n",
    "traverse(head)\n",
    "\n",
    "head = pushBack(head, 60)\n",
    "traverse(head)"
   ]
  },
  {
   "cell_type": "markdown",
   "metadata": {},
   "source": [
    "### Time Complexities\n",
    "\n",
    "* **PushFront:** O(1) Constant time operation\n",
    "    * Because we only changed the head reference and newNode’s next pointer. <br>\n",
    "    \n",
    "\n",
    "* **PushBack:** O(n) linear in terms of length of list. (n is no. of nodes in the list)\n",
    "    * Because we need to traverse the whole list to get to the last node\n"
   ]
  },
  {
   "attachments": {},
   "cell_type": "markdown",
   "metadata": {},
   "source": [
    "### Traversal Operation\n",
    "\n",
    "* **Traverse:** Traversing a list means going through each node of the list and printing the data of each node. <br> <br>\n",
    "\n",
    "#### Watch the Tutorial on Youtube --> (https://www.youtube.com/watch?v=tMAgzkcqe6o&t=8s)\n",
    "\n",
    "<br>\n",
    "\n",
    "* **Step-1**\n",
    "\n",
    "![traverse-1](https://github.com/navjindervirdee/data-structures-with-interview-coding-questions-using-python/blob/master/Linked%20List/Pics/traverse-1.JPG?raw=true) <br>\n",
    "\n",
    "\n",
    "* **Step-2**\n",
    "\n",
    "![traverse-2](https://github.com/navjindervirdee/data-structures-with-interview-coding-questions-using-python/blob/master/Linked%20List/Pics/traverse-2.JPG?raw=true) <br>"
   ]
  },
  {
   "cell_type": "code",
   "execution_count": 15,
   "metadata": {},
   "outputs": [],
   "source": [
    "def traverse(head):\n",
    "    print(\"Linked List : \", end = \" \")\n",
    "    \n",
    "    temp = head\n",
    "    \n",
    "    while(temp != None):\n",
    "        print(str(temp.data) + \" -->\", end = \" \")\n",
    "        temp = temp.next\n",
    "        \n",
    "    print(\"None\")    "
   ]
  },
  {
   "cell_type": "code",
   "execution_count": 16,
   "metadata": {},
   "outputs": [
    {
     "name": "stdout",
     "output_type": "stream",
     "text": [
      "Linked List :  10 --> 20 --> 30 --> 40 --> 50 --> 60 --> None\n"
     ]
    }
   ],
   "source": [
    "traverse(head)"
   ]
  },
  {
   "cell_type": "markdown",
   "metadata": {},
   "source": [
    "### Find Operation\n",
    "\n",
    "* **Find Operation:** Finds the element or node whose data is equal to the given data that we need to find. Returns None or Null if not present.\n",
    "\n",
    "#### Watch the Tutorial on Youtube --> (https://www.youtube.com/watch?v=tMAgzkcqe6o&t=8s)\n",
    "\n",
    "<br>"
   ]
  },
  {
   "attachments": {},
   "cell_type": "markdown",
   "metadata": {},
   "source": [
    "* **Step-1** <br>\n",
    "![find-1](https://github.com/navjindervirdee/data-structures-with-interview-coding-questions-using-python/blob/master/Linked%20List/Pics/find-1.JPG?raw=true) <br>\n",
    "\n",
    "* **Step-2** <br>\n",
    "![find-2](https://github.com/navjindervirdee/data-structures-with-interview-coding-questions-using-python/blob/master/Linked%20List/Pics/find-2.JPG?raw=true) <br>"
   ]
  },
  {
   "cell_type": "code",
   "execution_count": 17,
   "metadata": {},
   "outputs": [],
   "source": [
    "def find(head, data):\n",
    "    temp = head\n",
    "    \n",
    "    while(temp != None):\n",
    "        if (temp.data == data):\n",
    "            return temp\n",
    "        \n",
    "        temp = temp.next\n",
    "    \n",
    "    return None"
   ]
  },
  {
   "cell_type": "code",
   "execution_count": 18,
   "metadata": {},
   "outputs": [
    {
     "name": "stdout",
     "output_type": "stream",
     "text": [
      "20\n"
     ]
    }
   ],
   "source": [
    "node = find(head, 20)\n",
    "print(node.data)"
   ]
  },
  {
   "cell_type": "code",
   "execution_count": 19,
   "metadata": {},
   "outputs": [
    {
     "name": "stdout",
     "output_type": "stream",
     "text": [
      "60\n"
     ]
    }
   ],
   "source": [
    "node = find(head, 60)\n",
    "print(node.data)"
   ]
  },
  {
   "cell_type": "code",
   "execution_count": 20,
   "metadata": {},
   "outputs": [
    {
     "name": "stdout",
     "output_type": "stream",
     "text": [
      "None\n"
     ]
    }
   ],
   "source": [
    "node = find(head, 100)\n",
    "print(node)"
   ]
  },
  {
   "cell_type": "markdown",
   "metadata": {},
   "source": [
    "### Time Complexity\n",
    "\n",
    "* **Traverse Functions:** O(n) linear in terms of length of list. (n is no. of nodes in the list)\n",
    "    * Because we go through each node of the list individually. <br>\n",
    "\n",
    "    \n",
    "* **Find Operation:** O(n) linear in terms of length of list. (n is no. of nodes in the list) \n",
    "    * Worst Case is that we don’t find the data in the list so we go through each node of the list until the end.\n"
   ]
  },
  {
   "attachments": {},
   "cell_type": "markdown",
   "metadata": {},
   "source": [
    "### Deletion Operations\n",
    "\n",
    "* **PopFront:** Removes a node at the FRONT of the list.\n",
    "\n",
    "* **PopBack:** Removes a node at the END of the list.\n",
    "\n",
    " <br>\n",
    " \n",
    "### PopFront\n",
    "\n",
    "#### Watch the Tutorial on Youtube --> (https://www.youtube.com/watch?v=yKNyxIe6oc8&t=166s)\n",
    "\n",
    "<br>\n",
    "\n",
    "* **Step:** \n",
    "\n",
    "![popfront-1](https://github.com/navjindervirdee/data-structures-with-interview-coding-questions-using-python/blob/master/Linked%20List/Pics/popfront-1.JPG?raw=true) <br>\n",
    "\n",
    "![popfront-2](https://github.com/navjindervirdee/data-structures-with-interview-coding-questions-using-python/blob/master/Linked%20List/Pics/popfront-2.JPG?raw=true)\n",
    "\n",
    "<br>\n",
    "    \n"
   ]
  },
  {
   "cell_type": "code",
   "execution_count": 21,
   "metadata": {},
   "outputs": [],
   "source": [
    "def popFront(head):\n",
    "    if (head == None):\n",
    "        print(\"List Already Empty!\")\n",
    "        return head\n",
    "    \n",
    "    head = head.next\n",
    "    return head"
   ]
  },
  {
   "cell_type": "code",
   "execution_count": 22,
   "metadata": {},
   "outputs": [
    {
     "name": "stdout",
     "output_type": "stream",
     "text": [
      "Initial Linked List :  10 --> 20 --> 30 --> 40 --> 50 --> 60 --> None\n",
      "Updated Linked List :  20 --> 30 --> 40 --> 50 --> 60 --> None\n"
     ]
    }
   ],
   "source": [
    "print(\"Initial\", end = \" \")\n",
    "traverse(head)\n",
    "\n",
    "head = popFront(head)\n",
    "\n",
    "print(\"Updated\", end = \" \")\n",
    "traverse(head)"
   ]
  },
  {
   "attachments": {},
   "cell_type": "markdown",
   "metadata": {},
   "source": [
    "### Popback\n",
    "\n",
    "\n",
    "#### Watch the Tutorial on Youtube --> (https://www.youtube.com/watch?v=yKNyxIe6oc8&t=166s)\n",
    "\n",
    "<br>\n",
    "\n",
    "* **Step-1:** \n",
    "    \n",
    "![popback-1](https://github.com/navjindervirdee/data-structures-with-interview-coding-questions-using-python/blob/master/Linked%20List/Pics/popback-1.JPG?raw=true) <br>\n",
    "\n",
    "    \n",
    "* **Step-2:**\n",
    "\n",
    "![popback-2](https://github.com/navjindervirdee/data-structures-with-interview-coding-questions-using-python/blob/master/Linked%20List/Pics/popback-2.JPG?raw=true) <br>\n",
    "\n",
    "    \n",
    "* **Step-3:** \n",
    "\n",
    "![popback-3](https://github.com/navjindervirdee/data-structures-with-interview-coding-questions-using-python/blob/master/Linked%20List/Pics/popback-3.JPG?raw=true) <br>\n",
    "\n"
   ]
  },
  {
   "cell_type": "code",
   "execution_count": 23,
   "metadata": {},
   "outputs": [],
   "source": [
    "def popBack(head):\n",
    "    # case-1 list is empty\n",
    "    if(head == None):\n",
    "        print(\"List Already Empty!\")\n",
    "        return head\n",
    "\n",
    "    #case-2 list contains only ONE node\n",
    "    if(head.next == None):\n",
    "        head = None\n",
    "        return head\n",
    "    \n",
    "    #case-3 list contains more than one node\n",
    "    \n",
    "    temp = head\n",
    "    \n",
    "    while(temp.next.next != None):\n",
    "        temp = temp.next\n",
    "    \n",
    "    temp.next = None\n",
    "    return head"
   ]
  },
  {
   "cell_type": "code",
   "execution_count": 24,
   "metadata": {},
   "outputs": [
    {
     "name": "stdout",
     "output_type": "stream",
     "text": [
      "Initial  Linked List :  20 --> 30 --> 40 --> 50 --> 60 --> None\n",
      "Updated  Linked List :  20 --> 30 --> 40 --> 50 --> None\n"
     ]
    }
   ],
   "source": [
    "print(\"Initial \", end =\" \")\n",
    "traverse(head)\n",
    "\n",
    "head = popBack(head)\n",
    "\n",
    "print(\"Updated \", end = \" \")\n",
    "traverse(head)"
   ]
  },
  {
   "cell_type": "markdown",
   "metadata": {},
   "source": [
    "### Time Complexity\n",
    "\n",
    "* **PopFront-** O(1) Constant time operation\n",
    "    * Because we only changed the head reference. <br>\n",
    "<br>\n",
    "* **PopBack-** O(n) linear in terms of length of list. (n is no. of nodes in the list)\n",
    "    * Because we need to traverse the list and get to the second-last node of the list.\n",
    "    \n"
   ]
  },
  {
   "cell_type": "markdown",
   "metadata": {},
   "source": [
    "# Interview Coding Questions\n",
    "\n",
    "### Question 1 - Reverse a Linked List\n",
    "\n",
    "Has been asked in: \n",
    "\n",
    "* **Microsoft**\n",
    "* **Adobe**\n",
    "* **Goldman Sachs**\n",
    "* **Cognizant**\n",
    "* **VMWare**\n",
    "<br>\n",
    "\n"
   ]
  },
  {
   "cell_type": "markdown",
   "metadata": {},
   "source": [
    "**Problem Statement:** Given a Linked List, your task is to reverse the Linked List.\n",
    "<br>\n",
    "\n",
    "**Example-1:**\n",
    "<br>\n",
    "Linked List: 1 --> 2 --> 3 --> 4 --> None <br>\n",
    "Reverse Linked List : 4 --> 3 --> 2 --> 1 --> None\n",
    "<br>\n",
    "\n",
    "**Example-2:** \n",
    "<br>\n",
    "Linked List: 10 --> 12 --> None <br>\n",
    "Reverse Linked List: 12 --> 10 --> None\n",
    "<br>\n",
    "\n",
    "** Example-3:**\n",
    "<br>\n",
    "Linked List: 10 --> None <br>\n",
    "Reverse Linked List: 10 --> None\n",
    "\n",
    "\n",
    "#### Watch the Tutorial on Youtube --> (https://www.youtube.com/watch?v=nnJIvuHRtFM&t=296s)\n",
    "\n",
    "<br>\n",
    "\n",
    "\n",
    "    "
   ]
  },
  {
   "cell_type": "code",
   "execution_count": 25,
   "metadata": {},
   "outputs": [],
   "source": [
    "def reverse(head):\n",
    "    #case-1 if list is empty\n",
    "    #OR \n",
    "    #contains single node only\n",
    "    if (head == None or head.next == None):\n",
    "        return head\n",
    "    \n",
    "    \n",
    "    #list contains more than one node\n",
    "    \n",
    "    current = head\n",
    "    prev = None\n",
    "    \n",
    "    while(current != None):\n",
    "        next = current.next\n",
    "        current.next = prev\n",
    "        prev = current\n",
    "        current = next\n",
    "        \n",
    "    head = prev\n",
    "    return head"
   ]
  },
  {
   "cell_type": "code",
   "execution_count": 26,
   "metadata": {},
   "outputs": [
    {
     "name": "stdout",
     "output_type": "stream",
     "text": [
      "Initial Linked List :  20 --> 30 --> 40 --> 50 --> None\n",
      "Reverse Linked List :  50 --> 40 --> 30 --> 20 --> None\n"
     ]
    }
   ],
   "source": [
    "#lets check it out!\n",
    "print(\"Initial\", end = \" \")\n",
    "traverse(head)\n",
    "\n",
    "head = reverse(head)\n",
    "\n",
    "print(\"Reverse\", end = \" \")\n",
    "traverse(head)"
   ]
  },
  {
   "cell_type": "markdown",
   "metadata": {},
   "source": [
    "### Time Complexity\n",
    "\n",
    "* **Reverse-** O(n) linear in terms of length of list. (n is no. of nodes in the list)\n",
    "    * Because we have to go through each node of the list individually and change pointers.\n"
   ]
  },
  {
   "cell_type": "markdown",
   "metadata": {},
   "source": [
    "### Question 2 - Check whether the Linked List is Palindrome or Not?\n",
    "\n",
    "Has been asked in: \n",
    "\n",
    "* **Microsoft**\n",
    "* **Amazon**\n",
    "* **Snapdeal**\n",
    "<br>\n",
    "\n",
    "<br>\n",
    "**Problem Statement:** Given a Linked List, your task is check whether the Linked List is Palindrome or not? It should return True if Linked List is Palindrome, False otherwise.\n",
    "<br>\n",
    "\n",
    "Palindrome: a word, phrase, or sequence that reads the same backwards as forwards.\n",
    "<br> \n",
    "<br>\n",
    "\n",
    "**Example-1:**\n",
    "<br>\n",
    "Linked List: 1 --> 2 --> 3 --> 4 --> None <br>\n",
    "Result: false\n",
    "<br>\n",
    "\n",
    "**Example-2:** \n",
    "<br>\n",
    "Linked List: 10 --> 12 --> 10 --> None <br>\n",
    "Result: true\n",
    "<br>\n",
    "\n",
    "** Example-3:**\n",
    "<br>\n",
    "Linked List: 10 --> None <br>\n",
    "Result: true\n",
    "\n",
    "** Example-4:**\n",
    "<br>\n",
    "Linked List: 100 --> 200 --> 100 --> 200 --> 100 --> None <br>\n",
    "Result: true\n",
    "\n",
    "** Example-5:**\n",
    "<br>\n",
    "Linked List: 10 --> 100 --> 10 --> 200 --> 100 --> None <br>\n",
    "Result: false\n",
    "<br>\n",
    "\n",
    "\n",
    "#### Watch the Tutorial on Youtube --> (https://www.youtube.com/watch?v=z1fRlimnwII)\n",
    "\n",
    "<br>"
   ]
  },
  {
   "cell_type": "markdown",
   "metadata": {},
   "source": [
    "** Algorithm**\n",
    "\n",
    "* **Step-1:** Find the length of the list\n",
    "* **Step-2:** Break the list into two halves from the middle using the length\n",
    "* **Step-3:** Reverse the second half of the list\n",
    "* **Step-4:** Compare the data of corresponding nodes of first half and reversed second half. If same then list is palindrome else not.\n",
    "* **Step-5:** Reverset the second half again\n",
    "* **Step-6:** Join the first half and second half to form the original list."
   ]
  },
  {
   "cell_type": "code",
   "execution_count": 87,
   "metadata": {},
   "outputs": [],
   "source": [
    "# step-1 Find the length of list\n",
    "def getLength(head):\n",
    "    temp = head\n",
    "    len = 0\n",
    "    \n",
    "    while(temp != None):\n",
    "        len += 1\n",
    "        temp = temp.next\n",
    "    \n",
    "    return len\n",
    "    \n",
    "#step-2 break the list from middle into two halves\n",
    "def breakList(head, length):\n",
    "    #compute mid index\n",
    "    mid = length // 2 if (length % 2 == 0) else length // 2 + 1\n",
    "    i = 0\n",
    "    temp = head\n",
    "    \n",
    "    #travese the list\n",
    "    while(i < mid-1):\n",
    "        temp = temp.next\n",
    "        i += 1\n",
    "    \n",
    "    #break the list\n",
    "    head1 = head\n",
    "    head2 = temp.next\n",
    "    temp.next = None\n",
    "    \n",
    "    return (head1, head2)\n",
    "    \n",
    "    \n",
    "#step-4 compare the data of corresponding nodes of both the halves\n",
    "def compareList(head1, head2):\n",
    "    temp1 = head1\n",
    "    temp2 = head2\n",
    "    \n",
    "    while(temp2 != None):\n",
    "        if (temp1.data != temp2.data):\n",
    "            return False\n",
    "        \n",
    "        temp1 = temp1.next\n",
    "        temp2 = temp2.next\n",
    "    \n",
    "    return True\n",
    "    \n",
    "#step-6 join the both halves to form the original list\n",
    "def joinList(head1, head2):\n",
    "    temp1 = head1\n",
    "    \n",
    "    while(temp1.next != None):\n",
    "        temp1 = temp1.next\n",
    "    \n",
    "    temp1.next = head2\n",
    "    \n",
    "    return head1\n",
    "    \n",
    "    \n",
    "#main function to check whether the list is palindrome\n",
    "def isPalindrome(head):\n",
    "    # list is empty or list contains single node\n",
    "    if (head == None or head.next == None):\n",
    "        return True\n",
    "    \n",
    "    # list contain exactly two nodes\n",
    "    if (head.next.next == None):\n",
    "        return head.data == head.next.data\n",
    "    \n",
    "    # list contains more than two nodes\n",
    "    #step-1\n",
    "    len = getLength(head)\n",
    "    \n",
    "    #step-2\n",
    "    head1, head2 = breakList(head, len)\n",
    "    \n",
    "    #step-3\n",
    "    head2 = reverse(head2)\n",
    "    \n",
    "    #step-4\n",
    "    palindrome = compareList(head1, head2)\n",
    "    \n",
    "    #step-5\n",
    "    head2 = reverse(head2)\n",
    "    \n",
    "    #step-6\n",
    "    head = joinList(head1, head2)\n",
    "    \n",
    "    return palindrome"
   ]
  },
  {
   "cell_type": "code",
   "execution_count": 88,
   "metadata": {},
   "outputs": [
    {
     "name": "stdout",
     "output_type": "stream",
     "text": [
      "Is list Palindrome?\n",
      "Linked List :  1 --> 2 --> 3 --> 4 --> None\n",
      "Palindrome : False\n"
     ]
    }
   ],
   "source": [
    "head = None\n",
    "head = pushBack(head, 1)\n",
    "head = pushBack(head, 2)\n",
    "head = pushBack(head, 3)\n",
    "head = pushBack(head, 4)\n",
    "\n",
    "print(\"Is list Palindrome?\")\n",
    "traverse(head)\n",
    "\n",
    "palindrome = isPalindrome(head)\n",
    "print(\"Palindrome : {}\".format(palindrome))"
   ]
  },
  {
   "cell_type": "code",
   "execution_count": 89,
   "metadata": {},
   "outputs": [
    {
     "name": "stdout",
     "output_type": "stream",
     "text": [
      "Is list Palindrome?\n",
      "Linked List :  10 --> 12 --> 10 --> None\n",
      "Palindrome : True\n"
     ]
    }
   ],
   "source": [
    "head = None\n",
    "head = pushBack(head, 10)\n",
    "head = pushBack(head, 12)\n",
    "head = pushBack(head, 10)\n",
    "\n",
    "print(\"Is list Palindrome?\")\n",
    "traverse(head)\n",
    "\n",
    "palindrome = isPalindrome(head)\n",
    "print(\"Palindrome : {}\".format(palindrome))"
   ]
  },
  {
   "cell_type": "code",
   "execution_count": 90,
   "metadata": {},
   "outputs": [
    {
     "name": "stdout",
     "output_type": "stream",
     "text": [
      "Is list Palindrome?\n",
      "Linked List :  10 --> None\n",
      "Palindrome : True\n"
     ]
    }
   ],
   "source": [
    "head = None\n",
    "head = pushBack(head, 10)\n",
    "\n",
    "print(\"Is list Palindrome?\")\n",
    "traverse(head)\n",
    "\n",
    "palindrome = isPalindrome(head)\n",
    "print(\"Palindrome : {}\".format(palindrome))"
   ]
  },
  {
   "cell_type": "code",
   "execution_count": 91,
   "metadata": {},
   "outputs": [
    {
     "name": "stdout",
     "output_type": "stream",
     "text": [
      "Is list Palindrome?\n",
      "Linked List :  100 --> 200 --> 100 --> 200 --> 100 --> None\n",
      "Palindrome : True\n"
     ]
    }
   ],
   "source": [
    "head = None\n",
    "head = pushBack(head, 100)\n",
    "head = pushBack(head, 200)\n",
    "head = pushBack(head, 100)\n",
    "head = pushBack(head, 200)\n",
    "head = pushBack(head, 100)\n",
    "\n",
    "print(\"Is list Palindrome?\")\n",
    "traverse(head)\n",
    "\n",
    "palindrome = isPalindrome(head)\n",
    "print(\"Palindrome : {}\".format(palindrome))"
   ]
  },
  {
   "cell_type": "code",
   "execution_count": 92,
   "metadata": {},
   "outputs": [
    {
     "name": "stdout",
     "output_type": "stream",
     "text": [
      "Is list Palindrome?\n",
      "Linked List :  10 --> 100 --> 10 --> 200 --> 100 --> None\n",
      "Palindrome : False\n"
     ]
    }
   ],
   "source": [
    "head = None\n",
    "head = pushBack(head, 10)\n",
    "head = pushBack(head, 100)\n",
    "head = pushBack(head, 10)\n",
    "head = pushBack(head, 200)\n",
    "head = pushBack(head, 100)\n",
    "\n",
    "print(\"Is list Palindrome?\")\n",
    "traverse(head)\n",
    "\n",
    "palindrome = isPalindrome(head)\n",
    "print(\"Palindrome : {}\".format(palindrome))"
   ]
  }
 ],
 "metadata": {
  "kernelspec": {
   "display_name": "Python 3",
   "language": "python",
   "name": "python3"
  },
  "language_info": {
   "codemirror_mode": {
    "name": "ipython",
    "version": 3
   },
   "file_extension": ".py",
   "mimetype": "text/x-python",
   "name": "python",
   "nbconvert_exporter": "python",
   "pygments_lexer": "ipython3",
   "version": "3.6.5"
  }
 },
 "nbformat": 4,
 "nbformat_minor": 2
}
